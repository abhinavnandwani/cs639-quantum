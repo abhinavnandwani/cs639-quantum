{
 "cells": [
  {
   "cell_type": "markdown",
   "metadata": {},
   "source": [
    "## Q4: Quantum Teleportation Solution\n",
    "\n",
    "Quantum teleportation is a fascinating process that allows the transfer of a quantum state from one location to another without physically moving the particle carrying the state. It relies on two key resources: entanglement and classical communication. In this protocol, Alice holds a quantum state, $|\\psi\\rangle = \\alpha |0\\rangle + \\beta |1\\rangle$, which she wants to send to Bob. By sharing a pair of entangled qubits and performing a sequence of operations involving measurement and classical communication, Alice and Bob achieve the transfer of $|\\psi\\rangle$ to Bob's qubit.\n"
   ]
  },
  {
   "cell_type": "markdown",
   "metadata": {},
   "source": [
    "### Part A Solution:\n",
    "\n",
    "Alice begins with a quantum state $|\\psi\\rangle = \\alpha |0\\rangle + \\beta |1\\rangle$ and shares a maximally entangled pair, $|\\Phi^+\\rangle = \\frac{1}{\\sqrt{2}}(|00\\rangle + |11\\rangle)$, with Bob.\n",
    "\n",
    "The combined initial state of the system, which includes Alice’s qubit $|\\psi\\rangle$ and the shared entangled pair $|\\Phi^+\\rangle$ represent the full system of three qubits. Measurement of Alice’s two qubits projects the system into one of four possible states. Derive the resulting state of Bob’s qubit for each measurement outcome.\n",
    "\n",
    "Based on Alice’s measurement outcome, Bob must apply the unitary operation $U$ (from the set $\\{I, X, Z, XZ\\}$) to recover the original state $|\\psi\\rangle$. After Bob applies this correction, calculate the fidelity of the teleported state using the formula, $F = |\\langle \\psi | \\phi \\rangle|^2,$ where $|\\phi\\rangle$ is Bob’s qubit state after the correction for each of the possible scenarios of Alice's measurement.\n",
    "\n",
    "\n",
    "\n"
   ]
  },
  {
   "cell_type": "markdown",
   "metadata": {},
   "source": [
    "<span style=\"color: red;\"> Alice's \n",
    "initial state is $|\\psi\\rangle = \\alpha |0\\rangle + \\beta |1\\rangle$, and she shares a maximally entangled Bell state $|\\Phi^+\\rangle = \\frac{|00\\rangle + |11\\rangle}{\\sqrt{2}}$ with Bob.\n",
    "Step 1: Express the Full Three-Qubit System  \n",
    "The full initial state is given by\n",
    "$(\\alpha |0\\rangle + \\beta |1\\rangle) \\otimes \\frac{|00\\rangle + |11\\rangle}{\\sqrt{2}}$.  \n",
    "Expanding,  \n",
    "$|\\Psi_{\\text{init}}\\rangle = \\frac{1}{\\sqrt{2}} (\\alpha |000\\rangle + \\alpha |011\\rangle + \\beta |100\\rangle + \\beta |111\\rangle)$.  \n",
    "Rewriting in the Bell basis for Alice’s qubits,\n",
    "$|\\Psi_{\\text{init}}\\rangle = \\frac{1}{2} (|\\Phi^+\\rangle (\\alpha |0\\rangle + \\beta |1\\rangle) + |\\Phi^-\\rangle (\\alpha |0\\rangle - \\beta |1\\rangle) + |\\Psi^+\\rangle (\\beta |0\\rangle + \\alpha |1\\rangle) + |\\Psi^-\\rangle (\\beta |0\\rangle - \\alpha |1\\rangle))$,\n",
    "where $|\\Phi^\\pm\\rangle = \\frac{|00\\rangle \\pm |11\\rangle}{\\sqrt{2}}$ and $|\\Psi^\\pm\\rangle = \\frac{|01\\rangle \\pm |10\\rangle}{\\sqrt{2}}$.  \n",
    "Step 2: Resulting State of Bob’s Qubit Based on Alice’s Measurement  \n",
    "If Alice measures $|\\Phi^+\\rangle$, Bob's qubit is $|\\psi\\rangle = \\alpha |0\\rangle + \\beta |1\\rangle$.\n",
    "If Alice measures $|\\Phi^-\\rangle$, Bob's qubit is $Z|\\psi\\rangle = \\alpha |0\\rangle - \\beta |1\\rangle$.  \n",
    "If Alice measures $|\\Psi^+\\rangle$, Bob's qubit is $X|\\psi\\rangle = \\beta |0\\rangle + \\alpha |1\\rangle$.  \n",
    "If Alice measures $|\\Psi^-\\rangle$, Bob's qubit is $XZ|\\psi\\rangle = \\beta |0\\rangle - \\alpha |1\\rangle$.  \n",
    "Step 3: Bob’s Correction Operations  \n",
    "Bob applies the appropriate unitary operation $U$ from ${I, X, Z, XZ}$ based on Alice’s outcome to recover $|\\psi\\rangle$:  \n",
    "If Alice measures $|\\Phi^+\\rangle$, Bob applies $I$ (no change).    \n",
    "If Alice measures $|\\Phi^-\\rangle$, Bob applies $Z$.  \n",
    "If Alice measures $|\\Psi^+\\rangle$, Bob applies $X$.  \n",
    "If Alice measures $|\\Psi^-\\rangle$, Bob applies $XZ$.  \n",
    "Step 4: Fidelity Calculation  \n",
    "The fidelity of the teleported state is given by $F = |\\langle \\psi | \\phi \\rangle|^2$. Since Bob’s corrections perfectly recover $|\\psi\\rangle$ in each case,\n",
    "$F = |\\langle \\psi | \\psi \\rangle|^2 = 1$.  \n",
    "Thus, the teleportation process is perfect with fidelity 1 in an ideal scenario without noise.\n",
    "</span>"
   ]
  },
  {
   "cell_type": "markdown",
   "metadata": {},
   "source": [
    "### Part B Solution:\n",
    "What happens if we employ $|\\Phi^+\\rangle = (cos(\\theta)|00\\rangle + sin(\\theta)|11\\rangle)$, instead of $|\\Phi^+\\rangle = \\frac{1}{\\sqrt{2}}(|00\\rangle + |11\\rangle)$. Calculate the fidelity of the Bob's final state for the case where Alice measurement results in 00 and 01. Consider the quantum state $|\\psi\\rangle =  \\frac{1}{\\sqrt{2}}(|0\\rangle + i |1\\rangle)$ for calculations.\n",
    "\n",
    "\n",
    "<span style=\"color: red;\"> If \n",
    "we replace the maximally entangled Bell state $|\\Phi^+\\rangle = \\frac{1}{\\sqrt{2}}(|00\\rangle + |11\\rangle)$ with the more general state $|\\Phi^+\\rangle = \\cos(\\theta)|00\\rangle + \\sin(\\theta)|11\\rangle$, the teleportation process is affected because the shared entanglement is no longer maximal.\n",
    "Step 1: Express the Full Three-Qubit State  \n",
    "The initial state is\n",
    "$(|\\psi\\rangle \\otimes |\\Phi^+\\rangle) = (\\frac{1}{\\sqrt{2}}(|0\\rangle + i |1\\rangle)) \\otimes (\\cos(\\theta)|00\\rangle + \\sin(\\theta)|11\\rangle)$.  \n",
    "Expanding,\n",
    "$|\\Psi_{\\text{init}}\\rangle = \\frac{1}{\\sqrt{2}} ( |0\\rangle (\\cos(\\theta) |00\\rangle + \\sin(\\theta) |11\\rangle) + i |1\\rangle (\\cos(\\theta) |00\\rangle + \\sin(\\theta) |11\\rangle) )$.  \n",
    "Rearranging,\n",
    "$|\\Psi_{\\text{init}}\\rangle = \\frac{1}{\\sqrt{2}} ( \\cos(\\theta) |000\\rangle + \\sin(\\theta) |011\\rangle + i\\cos(\\theta) |100\\rangle + i\\sin(\\theta) |111\\rangle )$.  \n",
    "Rewriting in the Bell basis,\n",
    "$|\\Psi_{\\text{init}}\\rangle = \\frac{1}{\\sqrt{2}} ( \\cos(\\theta) |\\Phi^+\\rangle |0\\rangle + \\sin(\\theta) |\\Phi^+\\rangle |1\\rangle + i\\cos(\\theta) |\\Psi^+\\rangle |0\\rangle + i\\sin(\\theta) |\\Psi^+\\rangle |1\\rangle )$.  \n",
    "Step 2: Resulting State of Bob’s Qubit for Alice’s Measurement Outcomes  \n",
    "If Alice measures $00$ ($|\\Phi^+\\rangle$ component of the state), Bob's qubit collapses to $\\cos(\\theta)|0\\rangle + \\sin(\\theta)|1\\rangle$.\n",
    "If Alice measures $01$ ($|\\Psi^+\\rangle$ component of the state), Bob's qubit collapses to $i(\\cos(\\theta)|0\\rangle + \\sin(\\theta)|1\\rangle)$.\n",
    "Step 3: Fidelity Calculation  \n",
    "The fidelity of the teleported state is given by $F = |\\langle \\psi | \\phi \\rangle|^2$. The original state is $|\\psi\\rangle = \\frac{1}{\\sqrt{2}}(|0\\rangle + i |1\\rangle)$, and we compare this with Bob’s final state.  \n",
    "For Alice’s measurement outcome $00$ ($\\cos(\\theta)|0\\rangle + \\sin(\\theta)|1\\rangle$):\n",
    "$F = \\left| \\left( \\frac{1}{\\sqrt{2}} \\langle 0 | + \\frac{i}{\\sqrt{2}} \\langle 1 | \\right) (\\cos(\\theta)|0\\rangle + \\sin(\\theta)|1\\rangle) \\right|^2$\n",
    "$= \\left| \\frac{1}{\\sqrt{2}} \\cos(\\theta) + \\frac{i}{\\sqrt{2}} \\sin(\\theta) \\right|^2$\n",
    "$= \\frac{\\cos^2(\\theta) + \\sin^2(\\theta)}{2} = \\frac{1}{2}$.\n",
    "For Alice’s measurement outcome $01$ ($i(\\cos(\\theta)|0\\rangle + \\sin(\\theta)|1\\rangle)$):\n",
    "Since global phase does not affect fidelity, the result is the same:\n",
    "$F = \\frac{1}{2}$.\n",
    "Thus, using a non-maximally entangled state degrades the fidelity of the teleported state to $F = \\frac{1}{2}$, meaning the teleportation is imperfect.\n",
    "</span>\n",
    "\n",
    "\n",
    "\n",
    "\n"
   ]
  },
  {
   "cell_type": "markdown",
   "metadata": {},
   "source": [
    "### Part C Solution:\n",
    "Assume error probability of the measurements is $p=0.05$, i.e, the measurement is flipped with 5% probability. How will this impact the final state of Bob's qubit after correction? Provide a short explanation on robustness of the protocol against noise in measurements.\n",
    "\n",
    "<span style=\"color: red;\"> If\n",
    "the measurement has an error probability of $p = 0.05$, this means that Alice’s measurement outcome is flipped with a probability of $0.05$. Since Bob's correction depends on Alice’s measurement, any error in her result leads to an incorrect correction with the same probability.\n",
    "Impact on Bob’s Final State  \n",
    "With probability $0.95$, Alice's measurement is correct, and Bob applies the correct unitary, recovering $|\\psi\\rangle$ exactly.\n",
    "With probability $0.05$, Alice's measurement is incorrect, meaning Bob applies the wrong correction, resulting in an incorrect final state.\n",
    "Thus, the final state of Bob’s qubit will be a mixture of the correctly recovered state $|\\psi\\rangle$ (with probability $0.95$) and an incorrectly transformed state (with probability $0.05$).  \n",
    "Robustness Against Noise  \n",
    "Quantum teleportation relies on classical communication of measurement results. Since classical communication is subject to noise, errors in the measurement results directly translate to errors in Bob’s final state. The protocol itself is not inherently robust against such errors, as any mistake in Alice’s measurement leads to a wrong unitary correction.  \n",
    "To improve robustness, error correction techniques or repeated measurements could be used to reduce the impact of measurement noise.\n",
    "</span>"
   ]
  },
  {
   "cell_type": "markdown",
   "metadata": {},
   "source": [
    "### Part D Solution:\n"
   ]
  },
  {
   "cell_type": "markdown",
   "metadata": {},
   "source": [
    "a) Does quantum teleportation violates no-cloning theorem? Explain why or why not.\n",
    "\n",
    "<span style=\"color: red;\">No, \n",
    "quantum teleportation does not violate the no-cloning theorem.  \n",
    "The no-cloning theorem states that an arbitrary unknown quantum state cannot be copied perfectly. In quantum teleportation, the original state is not duplicated; instead, it is transferred from Alice to Bob. This happens because Alice’s measurement collapses her qubit, destroying the original quantum state. The state is only reconstructed on Bob’s side after he applies the appropriate correction. Since no two perfect copies of the state ever exist simultaneously, teleportation does not violate the no-cloning theorem. </span>\n",
    "\n"
   ]
  },
  {
   "cell_type": "markdown",
   "metadata": {},
   "source": [
    "b) Can quantum teleportation enable faster-than-light communication? Provide a short explanation.\n",
    "\n",
    "\n",
    "<span style=\"color: red;\">No, \n",
    "quantum teleportation does not enable faster-than-light communication.  \n",
    "While entanglement plays a crucial role in teleportation, the process also requires classical communication for Bob to apply the correct correction. Since classical communication is limited by the speed of light, the overall process remains constrained by relativistic causality. Thus, quantum teleportation cannot be used to transmit information instantaneously or enable faster-than-light communication.\n",
    "</span>\n"
   ]
  }
 ],
 "metadata": {
  "language_info": {
   "name": "python"
  }
 },
 "nbformat": 4,
 "nbformat_minor": 2
}
