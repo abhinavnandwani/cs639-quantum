{
 "cells": [
  {
   "cell_type": "markdown",
   "metadata": {},
   "source": [
    "## Q1: Superposition Solution"
   ]
  },
  {
   "cell_type": "markdown",
   "metadata": {},
   "source": [
    "### Part A Solution\n",
    "Consider the single-qubit state $|\\psi\\rangle=\\alpha|0\\rangle+\\frac{3-2i}{5}|1\\rangle$, where $\\alpha$ is a constant.\n"
   ]
  },
  {
   "cell_type": "markdown",
   "metadata": {},
   "source": [
    "(1) If we take a measurement, what is the probability of getting the result $|0\\rangle$?\n",
    "\n",
    "<span style=\"color: red;\">The\n",
    "probability of getting the result $|0\\rangle$ is $|\\alpha|^2$\n",
    "</span>\n"
   ]
  },
  {
   "cell_type": "markdown",
   "metadata": {},
   "source": [
    "(2) What would be a proper value of $\\alpha$ that makes the state valid?\n",
    "\n",
    "<span style=\"color: red;\"> Since \n",
    "the sum of all probabilities must be equal to 1, $|\\alpha|^2 + \\left| \\frac{3-2i}{5} \\right|^2 = 1$  \n",
    "Computing $ \\left| \\frac{3-2i}{5} \\right|^2 $,  \n",
    "$\\left| \\frac{3-2i}{5} \\right|^2 = \\frac{9+4}{25} = \\frac{13}{25}$  \n",
    "Hence,  \n",
    "$|\\alpha|^2 = 1 - \\frac{13}{25} = \\frac{12}{25}$  \n",
    "Taking the square root,  \n",
    "$|\\alpha| = \\sqrt{\\frac{12}{25}} = \\frac{2\\sqrt{3}}{5}$  \n",
    "Thus, a valid value for $\\alpha$ is any complex number with magnitude $\\frac{2\\sqrt{3}}{5}$, such as  \n",
    "$\\alpha = \\frac{2\\sqrt{3}}{5} e^{i\\theta}, \\quad$ for any real   $\\theta$.  \n",
    "</span>"
   ]
  },
  {
   "cell_type": "markdown",
   "metadata": {},
   "source": [
    "(3) How many possible values of $\\alpha$ are there? Please explain.\n",
    "\n",
    "<span style=\"color: red;\"> There \n",
    "are infinitely many possible values of $\\alpha$.  \n",
    "Since the magnitude of $\\alpha$ is fixed at $\\frac{2\\sqrt{3}}{5}$ $\\alpha$ can be any complex number of the form $\\alpha = \\frac{2\\sqrt{3}}{5} e^{i\\theta}$ where $\\theta$ is any real number.  \n",
    "Thus, $\\alpha$ can take infinitely many values, as $\\theta$ can be any angle in $[0, 2\\pi)$.  \n",
    "</span>"
   ]
  },
  {
   "cell_type": "markdown",
   "metadata": {},
   "source": [
    "### Part B Solution\n",
    "Write a single-qubit quantum state in the $Z$ basis ($|0\\rangle$ and $|1\\rangle$ basis) such that when measuring in the $X$ basis, the probability of getting the result $|+\\rangle$ is three times the probability of getting the result $|-\\rangle$. Show the calculations."
   ]
  },
  {
   "cell_type": "markdown",
   "metadata": {},
   "source": [
    "<span style=\"color: red;\"> We \n",
    "need to find a quantum state in the $Z$ basis such that the probability of measuring $|+\\rangle$ in the $X$ basis is three times the probability of measuring $|-\\rangle$.  \n",
    "A general single-qubit state in the $Z$ basis is  \n",
    "$|\\psi\\rangle = \\alpha |0\\rangle + \\beta |1\\rangle$.  \n",
    "The $X$ basis states are  \n",
    "$|+\\rangle = \\frac{|0\\rangle + |1\\rangle}{\\sqrt{2}}, \\quad |-\\rangle = \\frac{|0\\rangle - |1\\rangle}{\\sqrt{2}}$.  \n",
    "The measurement probabilities in the $X$ basis are given by  \n",
    "$P_{+} = \\left| \\frac{\\alpha + \\beta}{\\sqrt{2}} \\right|^2, \\quad P_{-} = \\left| \\frac{\\alpha - \\beta}{\\sqrt{2}} \\right|^2$.  \n",
    "Since $P_{+} = 3 P_{-}$,  \n",
    "$\\frac{|\\alpha + \\beta|^2}{2} = 3 \\times \\frac{|\\alpha - \\beta|^2}{2}$.  \n",
    "Simplifying,  \n",
    "$|\\alpha + \\beta|^2 = 3 |\\alpha - \\beta|^2$.  \n",
    "Let $\\alpha = r e^{i\\theta} \\cos\\phi$ and $\\beta = r e^{i\\theta} \\sin\\phi$, then solving for $\\phi$ gives  \n",
    "$\\tan\\phi = \\frac{1}{\\sqrt{2}}$.  \n",
    "Thus, possible values of $(\\alpha, \\beta)$ are  \n",
    "$\\alpha = r e^{i\\theta} \\cos \\left(\\tan^{-1} \\frac{1}{\\sqrt{2}} \\right), \\quad \\beta = r e^{i\\theta} \\sin \\left(\\tan^{-1} \\frac{1}{\\sqrt{2}} \\right)$  \n",
    "for any real $r$ and $\\theta$.  \n",
    "</span>"
   ]
  },
  {
   "cell_type": "markdown",
   "metadata": {},
   "source": [
    "### Part C Solution\n",
    "The general state of a single qubit can be written as:  \n",
    "$$\n",
    "|\\psi\\rangle = \\cos\\frac{\\theta}{2}|0\\rangle + e^{i\\phi}\\sin\\frac{\\theta}{2}|1\\rangle,\n",
    "$$  \n",
    "where $0 \\leq \\theta \\leq \\pi$ and $0 \\leq \\phi < 2\\pi$.  \n",
    "\n"
   ]
  },
  {
   "cell_type": "markdown",
   "metadata": {},
   "source": [
    "(1) How does $\\phi$ affect the probability of measuring $|0\\rangle$ and $|1\\rangle$, respectively?\n",
    "\n",
    "<span style=\"color: red;\">The \n",
    "probability of measuring $|0\\rangle$ is given by   \n",
    "$P_0 = |\\langle 0 | \\psi \\rangle|^2 = \\left| \\cos\\frac{\\theta}{2} \\right|^2 = \\cos^2\\frac{\\theta}{2}$.  \n",
    "Similarly, the probability of measuring $|1\\rangle$ is  \n",
    "$P_1 = |\\langle 1 | \\psi \\rangle|^2 = \\left| e^{i\\phi} \\sin\\frac{\\theta}{2} \\right|^2 = \\sin^2\\frac{\\theta}{2}$.  \n",
    "Since the magnitude of $e^{i\\phi}$ is $1$, the phase $\\phi$ does not affect the measurement probabilities.\n",
    "</span>"
   ]
  },
  {
   "cell_type": "markdown",
   "metadata": {},
   "source": [
    "(2) Apply $X$, $T$, and $H$ to the state (sequentially, in this given order). Show the changes to the state.\n",
    "\n",
    "<span style=\"color: red;\"> The \n",
    "given state is $|\\psi\\rangle = \\cos\\frac{\\theta}{2}|0\\rangle + e^{i\\phi}\\sin\\frac{\\theta}{2}|1\\rangle$.  \n",
    "Step 1: Apply $X$  \n",
    "The Pauli-$X$ gate swaps the amplitudes of $|0\\rangle$ and $|1\\rangle$:  \n",
    "$X|\\psi\\rangle = \\cos\\frac{\\theta}{2}|1\\rangle + e^{i\\phi}\\sin\\frac{\\theta}{2}|0\\rangle$.  \n",
    "Step 2: Apply $T$  \n",
    "The $T$ gate applies a phase of $e^{i\\pi/4}$ to $|1\\rangle$:  \n",
    "$T X |\\psi\\rangle = \\cos\\frac{\\theta}{2} e^{i\\pi/4} |1\\rangle + e^{i\\phi}\\sin\\frac{\\theta}{2} |0\\rangle$.  \n",
    "Step 3: Apply $H$  \n",
    "The Hadamard gate transforms the basis as  \n",
    "$H|0\\rangle = \\frac{|0\\rangle + |1\\rangle}{\\sqrt{2}}, \\quad H|1\\rangle = \\frac{|0\\rangle - |1\\rangle}{\\sqrt{2}}$.  \n",
    "Applying $H$:  \n",
    "$H T X |\\psi\\rangle = \\cos\\frac{\\theta}{2} e^{i\\pi/4} \\frac{|0\\rangle - |1\\rangle}{\\sqrt{2}} + e^{i\\phi}\\sin\\frac{\\theta}{2} \\frac{|0\\rangle + |1\\rangle}{\\sqrt{2}}$  \n",
    "$= \\frac{e^{i\\phi} \\sin\\frac{\\theta}{2} + e^{i\\pi/4} \\cos\\frac{\\theta}{2}}{\\sqrt{2}} |0\\rangle + \\frac{e^{i\\phi} \\sin\\frac{\\theta}{2} - e^{i\\pi/4} \\cos\\frac{\\theta}{2}}{\\sqrt{2}} |1\\rangle$.  \n",
    "</span>"
   ]
  },
  {
   "cell_type": "markdown",
   "metadata": {},
   "source": [
    "\n",
    "(3) Show the above transformation as matrix-vector multiplications.\n",
    "\n",
    "<span style=\"color: red;\"> The \n",
    "transformation sequence $H T X$ can be expressed as matrix multiplications.\n",
    "The matrices for the gates are:  \n",
    "$X = \\begin{bmatrix} 0 & 1 \\ 1 & 0 \\end{bmatrix}$,  \n",
    "$T = \\begin{bmatrix} 1 & 0 \\ 0 & e^{i\\pi/4} \\end{bmatrix}$,  \n",
    "$H = \\frac{1}{\\sqrt{2}} \\begin{bmatrix} 1 & 1 \\ 1 & -1 \\end{bmatrix}$.  \n",
    "The initial state in vector form is\n",
    "$\\begin{bmatrix} \\cos\\frac{\\theta}{2} \\ e^{i\\phi} \\sin\\frac{\\theta}{2} \\end{bmatrix}$.  \n",
    "Applying $X$:  \n",
    "$X \\begin{bmatrix} \\cos\\frac{\\theta}{2} \\ e^{i\\phi} \\sin\\frac{\\theta}{2} \\end{bmatrix}\n",
    "= \\begin{bmatrix} e^{i\\phi} \\sin\\frac{\\theta}{2} \\ \\cos\\frac{\\theta}{2} \\end{bmatrix}$.  \n",
    "Applying $T$:  \n",
    "$T X |\\psi\\rangle = \\begin{bmatrix} 1 & 0 \\ 0 & e^{i\\pi/4} \\end{bmatrix}\n",
    "\\begin{bmatrix} e^{i\\phi} \\sin\\frac{\\theta}{2} \\ \\cos\\frac{\\theta}{2} \\end{bmatrix}\n",
    "= \\begin{bmatrix} e^{i\\phi} \\sin\\frac{\\theta}{2} \\ e^{i\\pi/4} \\cos\\frac{\\theta}{2} \\end{bmatrix}$.  \n",
    "Applying $H$:  \n",
    "$H T X |\\psi\\rangle = \\frac{1}{\\sqrt{2}} \\begin{bmatrix} 1 & 1 \\ 1 & -1 \\end{bmatrix}\n",
    "\\begin{bmatrix} e^{i\\phi} \\sin\\frac{\\theta}{2} \\ e^{i\\pi/4} \\cos\\frac{\\theta}{2} \\end{bmatrix}$\n",
    "$= \\frac{1}{\\sqrt{2}} \\begin{bmatrix} e^{i\\phi} \\sin\\frac{\\theta}{2} + e^{i\\pi/4} \\cos\\frac{\\theta}{2} \\ e^{i\\phi} \\sin\\frac{\\theta}{2} - e^{i\\pi/4} \\cos\\frac{\\theta}{2} \\end{bmatrix}$.  \n",
    "Thus, the final state is\n",
    "$\\frac{1}{\\sqrt{2}} \\left( e^{i\\phi} \\sin\\frac{\\theta}{2} + e^{i\\pi/4} \\cos\\frac{\\theta}{2} \\right) |0\\rangle +\n",
    "\\frac{1}{\\sqrt{2}} \\left( e^{i\\phi} \\sin\\frac{\\theta}{2} - e^{i\\pi/4} \\cos\\frac{\\theta}{2} \\right) |1\\rangle$.\n",
    "</span>\n"
   ]
  },
  {
   "cell_type": "markdown",
   "metadata": {},
   "source": [
    "### Part D Solution\n",
    "Consider a two-qubit state\n",
    "$$\n",
    "|\\psi\\rangle = c(|+\\rangle|-\\rangle + \\frac{1}{2}|01\\rangle),\n",
    "$$\n",
    "where $c$ is a constant.\n"
   ]
  },
  {
   "cell_type": "markdown",
   "metadata": {},
   "source": [
    "(1) If we measure the first qubit, what is the probability of getting the result $|0\\rangle$? Do not have $c$ in your answer.\n",
    "\n",
    "<span style=\"color: red;\"> The \n",
    "given state is $|\\psi\\rangle = c(|+\\rangle|-\\rangle + \\frac{1}{2}|01\\rangle)$.\n",
    "Expanding $|+\\rangle$ and $|-\\rangle$:\n",
    "$|+\\rangle = \\frac{|0\\rangle + |1\\rangle}{\\sqrt{2}}, \\quad |-\\rangle = \\frac{|0\\rangle - |1\\rangle}{\\sqrt{2}}$.  \n",
    "Thus,\n",
    "$|\\psi\\rangle = c \\left( \\frac{|0\\rangle + |1\\rangle}{\\sqrt{2}} \\frac{|0\\rangle - |1\\rangle}{\\sqrt{2}} + \\frac{1}{2} |01\\rangle \\right)$.  \n",
    "Expanding the product:\n",
    "$\\frac{|0\\rangle + |1\\rangle}{\\sqrt{2}} \\frac{|0\\rangle - |1\\rangle}{\\sqrt{2}} = \\frac{|00\\rangle - |01\\rangle + |10\\rangle - |11\\rangle}{2}$.  \n",
    "Thus,\n",
    "$|\\psi\\rangle = c \\left( \\frac{|00\\rangle - |01\\rangle + |10\\rangle - |11\\rangle}{2} + \\frac{1}{2} |01\\rangle \\right)$.  \n",
    "Simplifying,\n",
    "$|\\psi\\rangle = c \\left( \\frac{|00\\rangle - |01\\rangle + |10\\rangle - |11\\rangle}{2} + \\frac{1}{2} |01\\rangle \\right)$.  \n",
    "Combining terms,\n",
    "$|\\psi\\rangle = c \\left( \\frac{|00\\rangle + |10\\rangle - |11\\rangle}{2} \\right)$.  \n",
    "The probability of measuring the first qubit as $|0\\rangle$ is given by the sum of the squared magnitudes of the coefficients of the terms where the first qubit is $|0\\rangle$:\n",
    "$P_0 = \\left| \\frac{c}{2} \\right|^2 + \\left| 0 \\right|^2 = \\frac{1}{4}$.\n",
    "</span>"
   ]
  },
  {
   "cell_type": "markdown",
   "metadata": {},
   "source": [
    "\n",
    "(2) Suppose we measured the first qubit and got $|0\\rangle$. What is the probability of measuring the second qubit in the state $|0\\rangle$? Do not have $c$ in your answer.\n",
    "\n",
    "<span style=\"color: red;\"> After \n",
    "measuring the first qubit as $|0\\rangle$, the post-measurement state collapses to $\\frac{|00\\rangle + |10\\rangle}{\\sqrt{|c/2|^2 + |c/2|^2}} = \\frac{|00\\rangle + |10\\rangle}{\\sqrt{1/4 + 1/4}} = \\frac{|00\\rangle + |10\\rangle}{\\sqrt{1/2}} = \\sqrt{2} \\left( \\frac{|00\\rangle + |10\\rangle}{2} \\right)$.  \n",
    "The probability of measuring the second qubit as $|0\\rangle$ is given by the squared magnitude of the coefficient of $|00\\rangle$:\n",
    "$P_{00} = \\left| \\frac{\\sqrt{2}}{2} \\right|^2 = \\frac{1}{2}$.\n",
    "</span>"
   ]
  }
 ],
 "metadata": {
  "language_info": {
   "name": "python"
  }
 },
 "nbformat": 4,
 "nbformat_minor": 2
}
