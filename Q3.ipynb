{
 "cells": [
  {
   "cell_type": "markdown",
   "metadata": {},
   "source": [
    "## Q3: Superdense Coding Solution"
   ]
  },
  {
   "cell_type": "markdown",
   "metadata": {},
   "source": [
    "\n",
    "\n",
    "Superdense Coding is a communication protocol that allows two bits of (classical) information to be transmitted with a single qubit. Detailed information can be found [here](https://github.com/Qiskit/textbook/blob/main/notebooks/ch-algorithms/superdense-coding.ipynb) and [here](https://en.wikipedia.org/wiki/Superdense_coding). A summary of the process is given below:\n",
    "\n",
    "- Someone (doesn't matter who) provides Alice and Bob a qubit from an entangled pair. Assume Alice receives qubit $\\phi_A$ and Bob receives $\\phi_B$.\n",
    "- Alice encodes information on their qubit $\\phi_A$ by applying gates based on the following rules:\n",
    "\n",
    "  $$\n",
    "  \\begin{array}{|c|c|c|}\n",
    "  \\hline\n",
    "  \\text{Intended Message} & \\text{Applied Gate} & \\text{Resulting State} (\\cdot\\tfrac{1}{\\sqrt{2}}) \\\\\n",
    "  \\hline\n",
    "  00 & I & |00\\rangle + |11\\rangle \\\\\n",
    "  01 & X & |10\\rangle + |01\\rangle \\\\\n",
    "  10 & Z & |00\\rangle - |11\\rangle \\\\\n",
    "  11 & ZX & -|10\\rangle + |01\\rangle \\\\\n",
    "  \\hline\n",
    "  \\end{array}\n",
    "  $$\n",
    "\n",
    "- Alice then sends their qubit $\\phi_A$ to Bob.\n",
    "- Bob applies a CNOT followed by a Hadamard gate on the qubit received from Alice ($\\phi_A$) and the qubit they were given in the beginning ($\\phi_B$).\n",
    "- Bob then measures both qubits and decodes the results. The possible measurements are summarized below:\n",
    "\n",
    "  $$\n",
    "  \\begin{array}{|c|c|c|}\n",
    "  \\hline\n",
    "  \\textbf{Bob Receives} \\, (\\cdot\\tfrac{1}{\\sqrt{2}}) & \\textbf{After CNOT-gate} \\, (\\cdot\\tfrac{1}{\\sqrt{2}}) & \\textbf{After H-gate} \\\\\n",
    "  \\hline\n",
    "  |00\\rangle + |11\\rangle & |00\\rangle + |10\\rangle & |00\\rangle \\\\\n",
    "  \\hline\n",
    "  |10\\rangle + |01\\rangle & |11\\rangle + |01\\rangle & |01\\rangle \\\\\n",
    "  \\hline\n",
    "  |00\\rangle - |11\\rangle & |00\\rangle - |10\\rangle & |10\\rangle \\\\\n",
    "  \\hline\n",
    "  -|10\\rangle + |01\\rangle & -|11\\rangle + |01\\rangle & |11\\rangle \\\\\n",
    "  \\hline\n",
    "  \\end{array}\n",
    "  $$\n",
    "\n",
    "- The final measurements made by Bob (final column in the table above) represent the information encoded by Alice.\n"
   ]
  },
  {
   "cell_type": "markdown",
   "metadata": {},
   "source": [
    "\n",
    "### Part A Solution\n",
    "Why does the sharing of an entangled pair in the beginning play a critical role in this process?\n",
    "\n",
    "<span style=\"color: red;\"> The \n",
    "sharing of an entangled pair at the beginning is critical because it establishes a quantum correlation between Alice's and Bob's qubits, enabling Bob to retrieve two classical bits of information from a single qubit.  \n",
    "Without initial entanglement, Alice's local operations on her qubit would not affect Bob's qubit in a predictable way. The entangled state ensures that when Alice applies gates to her qubit, the global quantum state is transformed in a way that Bob can later decode using only local operations on his qubits.      \n",
    "The process relies on the fact that the Bell states span the two-qubit Hilbert space, meaning that any operation Alice performs on her qubit moves the system into a different Bell state. When Bob receives Alice’s qubit, he applies a CNOT and a Hadamard gate to return the system to a computational basis state, allowing classical information retrieval.  \n",
    "Thus, entanglement is what enables superdense coding to surpass the classical limit of one bit per qubit, making the transmission of two classical bits via a single qubit possible.\n",
    "</span>\n",
    "\n",
    "\n"
   ]
  },
  {
   "cell_type": "markdown",
   "metadata": {},
   "source": [
    "### Part B Solution\n",
    "\n",
    "Is this communication protocol secure? What if a nefarious agent intercepts the qubit sent by Alice to Bob? Will they be able to determine the encoded information? Answer with Yes/No and give a short one line explanation.\n",
    "\n",
    "<span style=\"color: red;\"> If \n",
    "a nefarious agent intercepts the qubit sent by Alice, they **will not** be able to determine the encoded information just by measuring it, as the qubit is still entangled with Bob’s qubit and does not independently hold classical bits. However, if the eavesdropper knows the protocol and has access to Bob’s qubit, they could reconstruct the information. </span>\n"
   ]
  },
  {
   "cell_type": "markdown",
   "metadata": {},
   "source": [
    "### Part C Solution\n",
    "\n",
    "If Alice used an $XZ$ operation instead of the $ZX$ operation to encode the $11$ message, would things still work? Why/why not? What would be the message transmitted by Alice in this case?\n",
    "\n",
    "<span style=\"color: red;\"> No, \n",
    "the protocol would not work correctly if Alice used an $XZ$ operation instead of $ZX$ to encode the $11$ message. The order of operations matters because $ZX \\neq XZ$ due to the non-commutativity of quantum gates. The correct encoding uses $ZX$, which applies $Z$ first, then $X$, transforming the initial Bell state into $-|10\\rangle + |01\\rangle$.  \n",
    "If Alice applied $XZ$ instead, the state would be transformed differently, leading to incorrect decoding by Bob. Specifically, $XZ$ applied to the Bell state $|00\\rangle + |11\\rangle$ results in $|10\\rangle - |01\\rangle$, which would cause Bob to measure the wrong classical message.\n",
    "</span>\n"
   ]
  },
  {
   "cell_type": "markdown",
   "metadata": {},
   "source": [
    "### Part D Solution\n",
    "\n",
    "Now assume that the final measurements made by Bob are faulty with a probability of 2%. How would this affect the information decoded by Bob? Would the final error probability of decoding be more or less than 2%? Provide mathematical reasoning for your answer.\n",
    "\n",
    "\n",
    "<span style=\"color: red;\"> Since \n",
    "Bob’s final measurement is faulty with a probability of $2\\%$, each individual qubit measurement has an independent error probability of $0.02$.\n",
    "Bob measures two qubits, meaning the total probability of at least one measurement being incorrect affects the overall decoding accuracy. The probability that both measurements are correct is $(1 - 0.02)^2 = 0.98^2 = 0.9604$.  \n",
    "Thus, the probability of at least one incorrect measurement is  \n",
    "$1 - 0.9604 = 0.0396$, or approximately 3.96%.  \n",
    "Since the final classical message depends on both qubit measurements, any single measurement error can lead to incorrect decoding. Therefore, the final error probability of decoding is greater than 2%, specifically about 3.96% due to the compounding effect of independent errors in both qubit measurements.  \n",
    "</span>"
   ]
  }
 ],
 "metadata": {
  "language_info": {
   "name": "python"
  }
 },
 "nbformat": 4,
 "nbformat_minor": 2
}
